{
 "cells": [
  {
   "cell_type": "code",
   "execution_count": 1,
   "id": "f61b85a9",
   "metadata": {},
   "outputs": [],
   "source": [
    "import os\n",
    "import pandas as pd\n",
    "import numpy as np"
   ]
  },
  {
   "cell_type": "code",
   "execution_count": 2,
   "id": "55f644ad",
   "metadata": {},
   "outputs": [],
   "source": [
    "if not os.path.exists('data/processed/'):\n",
    "    os.makedirs('data/processed/')\n",
    "    \n",
    "if not os.path.exists('data/raw/'):\n",
    "    os.makedirs('data/raw/')"
   ]
  },
  {
   "cell_type": "code",
   "execution_count": 3,
   "id": "feda914f",
   "metadata": {},
   "outputs": [],
   "source": [
    "df_list = []\n",
    "\n",
    "for file_name in os.listdir('data/DR17/'):\n",
    "    if file_name.endswith('.csv'):\n",
    "        file_path = os.path.join('data/DR17/', file_name)\n",
    "        df_list.append(pd.read_csv(file_path))\n",
    "        \n",
    "df = pd.concat(df_list, ignore_index=True)"
   ]
  },
  {
   "cell_type": "code",
   "execution_count": 4,
   "id": "6cfbcbe0",
   "metadata": {},
   "outputs": [],
   "source": [
    "# Shuffle the combined dataframe\n",
    "df = df.sample(frac=1, random_state=42).reset_index(drop=True)\n",
    "\n",
    "# Save the shuffled dataframe to a new CSV file\n",
    "df.to_csv('data/raw/combined.csv', index=False)"
   ]
  },
  {
   "cell_type": "code",
   "execution_count": 5,
   "id": "835f6f0d",
   "metadata": {},
   "outputs": [],
   "source": [
    "df = pd.read_csv('data/raw/combined.csv')\n",
    "\n",
    "df_cleaned = df[~(df == -9999).any(axis=1)]\n",
    "df_cleaned = df_cleaned.drop_duplicates()\n",
    "df_cleaned = df_cleaned[df_cleaned['clean'] == 1]\n",
    "df_cleaned.drop(columns=['subClass', 'class', 'clean'], inplace=True)"
   ]
  },
  {
   "cell_type": "code",
   "execution_count": 6,
   "id": "5868d330",
   "metadata": {},
   "outputs": [],
   "source": [
    "# Splitting data into 3 parts: Spectrometry + Photometry, Photometry Only, and Unseen Data\n",
    "portions = np.array_split(df_cleaned, 3)\n",
    "\n",
    "portions[0].to_csv('data/processed/spectrometry_photometry.csv', index=False)\n",
    "portions[1].to_csv('data/processed/photometry_only.csv', index=False)\n",
    "portions[2].to_csv('data/processed/unseen_data.csv', index=False)"
   ]
  }
 ],
 "metadata": {
  "kernelspec": {
   "display_name": "tf-gpu",
   "language": "python",
   "name": "python3"
  },
  "language_info": {
   "codemirror_mode": {
    "name": "ipython",
    "version": 3
   },
   "file_extension": ".py",
   "mimetype": "text/x-python",
   "name": "python",
   "nbconvert_exporter": "python",
   "pygments_lexer": "ipython3",
   "version": "3.10.18"
  }
 },
 "nbformat": 4,
 "nbformat_minor": 5
}
